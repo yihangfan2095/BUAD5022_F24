{
 "cells": [
  {
   "cell_type": "markdown",
   "id": "cf985da4-9f6e-4610-88d8-7c7f4d8aa9c6",
   "metadata": {},
   "source": [
    "# Exploring the Galaxy Toys Example\n",
    "\n",
    "We are now going to explore the Galaxy Toys example a bit more. Let's first see how to create and solve the model using Gurobi. Then, how can we get the sensitivity analysis information out?"
   ]
  },
  {
   "cell_type": "code",
   "execution_count": null,
   "id": "571af03c-90c1-4a21-af66-b45b78863edf",
   "metadata": {},
   "outputs": [],
   "source": [
    "# import the two Gurobi parts we need\n",
    "import gurobipy as gp\n",
    "from gurobipy import GRB"
   ]
  },
  {
   "cell_type": "markdown",
   "id": "a8f8caed-a59f-42d0-b021-28a673cb27ad",
   "metadata": {},
   "source": [
    "## Very Simple Approach\n",
    "\n",
    "We are going to start with the most basic and \"simple\" way to create and solve our small LP using Gurobi. We will do it steps, with each step in its own code cell. (You can, of course, put all these steps into a single code cell.) NOTE: We should probably put a `try` block around all of this code to catch any runtime errors. \n",
    "\n",
    "Recall that our formulation looked like this:\n",
    "\n",
    "| | | |\n",
    "| --- | --- | --- |\n",
    "| Let | | |\n",
    "| $x_{s}$ | = | number of lots (dozens) of Space Rays to produce next week |\n",
    "| $x_{p}$ | = | number of lots (dozens) of Phasers to produce next week |\n",
    "\n",
    "| | | | | | | |\n",
    "| --- | --- | --- | --- | --- | --- | --- |\n",
    "| $\\max$ | $8x_{s}$ | $+$ | $5x_{p}$ | | | |\n",
    "| s.t. | $2x_{s}$ | $+$ | $1x_{p}$ | $\\le$ | $1200$ | {plastic pounds} |\n",
    "| | $3x_{s}$ | $+$ | $4x_{p}$ | $\\le$ | $2400$ | {minutes of production} |\n",
    "| | $1x_{s}$ | $+$ | $1x_{p}$ | $\\le$ | $800$ | {overall production limit} |\n",
    "| | $1x_{s}$ | $-$ | $1x_{p}$ | $\\le$ | $450$ | {mix of products produced} |\n",
    "| | $x_{s}$ | | | $\\ge$ | $0$ | {non-negativity} |\n",
    "| | | | $x_{p}$ | $\\ge$ | $0$ | {non-negativity} |"
   ]
  },
  {
   "cell_type": "code",
   "execution_count": null,
   "id": "e9a4fe7c-1095-4051-addc-38f16cf14232",
   "metadata": {},
   "outputs": [],
   "source": [
    "# Create the model object\n",
    "m = gp.Model('galaxy_toys')"
   ]
  },
  {
   "cell_type": "code",
   "execution_count": null,
   "id": "a89b5946-bebf-4f4e-86e4-d7c62bc3fbf4",
   "metadata": {},
   "outputs": [],
   "source": [
    "# Specify how to optimize and time limit (seconds)\n",
    "m.ModelSense = GRB.MAXIMIZE\n",
    "m.setParam('TimeLimit', 600)\n",
    "\n",
    "# update the model\n",
    "m.update()"
   ]
  },
  {
   "cell_type": "code",
   "execution_count": null,
   "id": "b8ed67c7-aaf0-4293-bf89-49a93bec1d7c",
   "metadata": {},
   "outputs": [],
   "source": [
    "# Create decision variables\n",
    "# We tell the solver that the variables are continuous,\n",
    "#   their names, and their lower bounds\n",
    "x_s = m.addVar(vtype=GRB.CONTINUOUS, name='x_s', lb=0.0)\n",
    "x_p = m.addVar(vtype=GRB.CONTINUOUS, name='x_p', lb=0.0)\n",
    "\n",
    "# update the model\n",
    "m.update()"
   ]
  },
  {
   "cell_type": "code",
   "execution_count": null,
   "id": "291aa889-f04f-4ff2-ac9e-21114e3f8584",
   "metadata": {},
   "outputs": [],
   "source": [
    "# Add the objective function\n",
    "m.setObjective(8 * x_s + 5 * x_p)\n",
    "m.update()"
   ]
  },
  {
   "cell_type": "code",
   "execution_count": null,
   "id": "49cb00ba-3d0e-466c-9766-be978bb6b9e7",
   "metadata": {},
   "outputs": [],
   "source": [
    "# Add the constraints\n",
    "# We can simply write out the constraints for the first parameter\n",
    "# The second parameter names the constraint\n",
    "m.addConstr(2*x_s + x_p <= 1200, name='plastic')\n",
    "m.addConstr(3*x_s + 4*x_p <= 2400, name='labor')\n",
    "m.addConstr(x_s + x_p <= 800, name='total_production')\n",
    "m.addConstr(x_s - x_p <= 450, name='product_mix')\n",
    "m.update()"
   ]
  },
  {
   "cell_type": "code",
   "execution_count": null,
   "id": "2b72cff3-7ad5-493e-9579-86d98bb85350",
   "metadata": {},
   "outputs": [],
   "source": [
    "# solve\n",
    "m.optimize()"
   ]
  },
  {
   "cell_type": "markdown",
   "id": "325bdeb9-fbea-4660-a040-ac7b01eaf359",
   "metadata": {},
   "source": [
    "### Getting the Results\n",
    "\n",
    "We now want to get the results and print them in a little nicer format. "
   ]
  },
  {
   "cell_type": "code",
   "execution_count": null,
   "id": "ecba4cd7-5c11-4c1a-9215-1ad73a2346d1",
   "metadata": {},
   "outputs": [],
   "source": [
    "# Get the results out\n",
    "print(f'To generate the optimal profit of ${m.ObjVal:0.2f}, you should produce the following amounts:')\n",
    "for v in m.getVars():\n",
    "    print(f'   {v.VarName} = {v.X}')"
   ]
  },
  {
   "cell_type": "markdown",
   "id": "92e12d67-a4bc-4cc4-b208-c7a07a2c1649",
   "metadata": {},
   "source": [
    "### Sensitivity Analysis\n",
    "\n",
    "We can easily get the reduced cost and the range of optimality for each variable. Similarly, we can extract the shadow price and the range feasibility for each constraint."
   ]
  },
  {
   "cell_type": "code",
   "execution_count": null,
   "id": "a2a67fcc-0206-4909-a580-9ee69b44ca24",
   "metadata": {},
   "outputs": [],
   "source": [
    "# Get the reduced cost and range of optimality for each variable\n",
    "for v in m.getVars():\n",
    "    print(f'{v.VarName} has a reduced cost of {v.RC}')\n",
    "    print(f'   and a range of optimality from {v.SAObjLow} to {v.SAObjUp}')"
   ]
  },
  {
   "cell_type": "code",
   "execution_count": null,
   "id": "5bb1a292-f11c-4242-98a3-0939a6bd6b16",
   "metadata": {},
   "outputs": [],
   "source": [
    "# Get the shadow price and the range of feasibility for each constraint\n",
    "for c in m.getConstrs():\n",
    "    print(f'{c.constrName} has a shadow price of {c.pi}')\n",
    "    print(f'   and a range of feasibility from {c.SARHSLow} to {c.SARHSUp}')"
   ]
  },
  {
   "cell_type": "markdown",
   "id": "b7e07b3d-e32e-4bcf-abc7-6ae3df47746f",
   "metadata": {
    "deletable": false,
    "editable": false,
    "slideshow": {
     "slide_type": ""
    },
    "tags": []
   },
   "source": [
    "**&copy; 2024 - Present: Matthew D. Dean, Ph.D.   \n",
    "Clinical Full Professor of Business Analytics at William \\& Mary.**"
   ]
  }
 ],
 "metadata": {
  "kernelspec": {
   "display_name": "Python 3 (ipykernel)",
   "language": "python",
   "name": "python3"
  },
  "language_info": {
   "codemirror_mode": {
    "name": "ipython",
    "version": 3
   },
   "file_extension": ".py",
   "mimetype": "text/x-python",
   "name": "python",
   "nbconvert_exporter": "python",
   "pygments_lexer": "ipython3",
   "version": "3.12.4"
  }
 },
 "nbformat": 4,
 "nbformat_minor": 5
}
