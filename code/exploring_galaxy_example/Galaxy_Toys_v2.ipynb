{
 "cells": [
  {
   "cell_type": "markdown",
   "id": "cf985da4-9f6e-4610-88d8-7c7f4d8aa9c6",
   "metadata": {},
   "source": [
    "# Exploring the Galaxy Toys Example\n",
    "\n",
    "We are now going to explore the Galaxy Toys example a bit more. Let's take a look at the other versions that had multiple optimal solutions, etc."
   ]
  },
  {
   "cell_type": "code",
   "execution_count": null,
   "id": "571af03c-90c1-4a21-af66-b45b78863edf",
   "metadata": {},
   "outputs": [],
   "source": [
    "# import the two Gurobi parts we need\n",
    "import gurobipy as gp\n",
    "from gurobipy import GRB"
   ]
  },
  {
   "cell_type": "markdown",
   "id": "a8f8caed-a59f-42d0-b021-28a673cb27ad",
   "metadata": {},
   "source": [
    "## Formulation \n",
    "\n",
    "Recall that our formulation looked like this:\n",
    "\n",
    "| | | |\n",
    "| --- | --- | --- |\n",
    "| Let | | |\n",
    "| $x_{s}$ | = | number of lots (dozens) of Space Rays to produce next week |\n",
    "| $x_{p}$ | = | number of lots (dozens) of Phasers to produce next week |\n",
    "\n",
    "| | | | | | | |\n",
    "| --- | --- | --- | --- | --- | --- | --- |\n",
    "| $\\max$ | $8x_{s}$ | $+$ | $5x_{p}$ | | | |\n",
    "| s.t. | $2x_{s}$ | $+$ | $1x_{p}$ | $\\le$ | $1200$ | {plastic pounds} |\n",
    "| | $3x_{s}$ | $+$ | $4x_{p}$ | $\\le$ | $2400$ | {minutes of production} |\n",
    "| | $1x_{s}$ | $+$ | $1x_{p}$ | $\\le$ | $800$ | {overall production limit} |\n",
    "| | $1x_{s}$ | $-$ | $1x_{p}$ | $\\le$ | $450$ | {mix of products produced} |\n",
    "| | $x_{s}$ | | | $\\ge$ | $0$ | {non-negativity} |\n",
    "| | | | $x_{p}$ | $\\ge$ | $0$ | {non-negativity} |"
   ]
  },
  {
   "cell_type": "markdown",
   "id": "13909205-52ac-4932-b2b5-8c9fbe03cd1f",
   "metadata": {},
   "source": [
    "### Range of Optimality\n",
    "\n",
    "Suppose the objective function coefficient for space rays was really \\$7. How does this change the solution? Can you answer that question using the sensitivity report? Do you have re-solve the problem witht the new data?"
   ]
  },
  {
   "cell_type": "code",
   "execution_count": null,
   "id": "e9a4fe7c-1095-4051-addc-38f16cf14232",
   "metadata": {},
   "outputs": [],
   "source": [
    "####                ####\n",
    "#    ORIGINAL MODEL    #\n",
    "####                ####\n",
    "# Create the model object\n",
    "m = gp.Model('galaxy_toys')\n",
    "\n",
    "# Specify how to optimize and time limit (seconds)\n",
    "m.ModelSense = GRB.MAXIMIZE\n",
    "m.setParam('TimeLimit', 600)\n",
    "\n",
    "# Create decision variables\n",
    "# We tell the solver that the variables are continuous,\n",
    "#   their names, and their lower bounds\n",
    "x_s = m.addVar(vtype=GRB.CONTINUOUS, name='x_s', lb=0.0)\n",
    "x_p = m.addVar(vtype=GRB.CONTINUOUS, name='x_p', lb=0.0)\n",
    "\n",
    "# Add the objective function\n",
    "m.setObjective(8 * x_s + 5 * x_p)\n",
    "\n",
    "# Add the constraints\n",
    "# We can simply write out the constraints for the first parameter\n",
    "# The second parameter names the constraint\n",
    "m.addConstr(2*x_s + x_p <= 1200, name='plastic')\n",
    "m.addConstr(3*x_s + 4*x_p <= 2400, name='labor')\n",
    "m.addConstr(x_s + x_p <= 800, name='total_production')\n",
    "m.addConstr(x_s - x_p <= 450, name='product_mix')\n",
    "\n",
    "# update the model\n",
    "m.update()\n",
    "\n",
    "# solve\n",
    "m.optimize()"
   ]
  },
  {
   "cell_type": "markdown",
   "id": "325bdeb9-fbea-4660-a040-ac7b01eaf359",
   "metadata": {},
   "source": [
    "### Getting the Results\n",
    "\n",
    "We now want to get the results and print them in a little nicer format. "
   ]
  },
  {
   "cell_type": "code",
   "execution_count": null,
   "id": "ecba4cd7-5c11-4c1a-9215-1ad73a2346d1",
   "metadata": {},
   "outputs": [],
   "source": [
    "# Get the results out\n",
    "print(f'To generate the optimal profit of ${m.ObjVal:0.2f}, you should produce the following amounts:')\n",
    "for v in m.getVars():\n",
    "    print(f'   {v.VarName} = {v.X}')"
   ]
  },
  {
   "cell_type": "markdown",
   "id": "92e12d67-a4bc-4cc4-b208-c7a07a2c1649",
   "metadata": {},
   "source": [
    "### Sensitivity Analysis\n",
    "\n",
    "We can easily get the reduced cost and the range of optimality for each variable. Similarly, we can extract the shadow price and the range feasibility for each constraint."
   ]
  },
  {
   "cell_type": "code",
   "execution_count": null,
   "id": "a2a67fcc-0206-4909-a580-9ee69b44ca24",
   "metadata": {},
   "outputs": [],
   "source": [
    "# Get the reduced cost and range of optimality for each variable\n",
    "for v in m.getVars():\n",
    "    print(f'{v.VarName} has a reduced cost of {v.RC}')\n",
    "    print(f'   and a range of optimality from {v.SAObjLow} to {v.SAObjUp}')"
   ]
  },
  {
   "cell_type": "code",
   "execution_count": null,
   "id": "5bb1a292-f11c-4242-98a3-0939a6bd6b16",
   "metadata": {},
   "outputs": [],
   "source": [
    "# Get the shadow price and the range of feasibility for each constraint\n",
    "for c in m.getConstrs():\n",
    "    print(f'{c.constrName} has a shadow price of {c.pi}')\n",
    "    print(f'   and a range of feasibility from {c.SARHSLow} to {c.SARHSUp}')"
   ]
  },
  {
   "cell_type": "markdown",
   "id": "7832c7b3-d2b2-48c7-a0c7-952d8e3e9196",
   "metadata": {},
   "source": [
    "### Changing the Objective Function Coefficient for Space Rays\n",
    "\n",
    "Let's go ahead and change the objective function coefficient from the original \\\\$8 to \\\\$7 and re-run the solver to see what we get."
   ]
  },
  {
   "cell_type": "code",
   "execution_count": null,
   "id": "f5046c29-9f31-43b4-8848-6ffe5298a2f8",
   "metadata": {},
   "outputs": [],
   "source": [
    "# Change the objective function\n",
    "m.setObjective(7 * x_s + 5 * x_p)\n",
    "m.update()\n",
    "m.optimize()\n",
    "\n",
    "# get the results\n",
    "print(f'To generate the optimal profit of ${m.ObjVal:0.2f}, you should produce the following amounts:')\n",
    "for v in m.getVars():\n",
    "    print(f'   {v.VarName} = {v.X}')"
   ]
  },
  {
   "cell_type": "markdown",
   "id": "4d6f8b32-b42d-4616-8fcc-3034df46b6aa",
   "metadata": {},
   "source": [
    "### Range of Feasibility\n",
    "\n",
    "Suppose we had one additional pound of plastic that could be used for our production cycle. What does this additional resource do to our solution? Can you answer that with the sensitivity report?\n",
    "\n",
    "First, let's go back to the original model. We need to reset the objective function coefficient for space rays. Then, let's change the right-hand-side of the plastic constraint and re-solve the problem."
   ]
  },
  {
   "cell_type": "code",
   "execution_count": null,
   "id": "51253dd0-4f1c-4575-aba0-8480e80a3581",
   "metadata": {},
   "outputs": [],
   "source": [
    "# The following method is deprecated and undocumented\n",
    "# BUT it still appears to work\n",
    "m.display()"
   ]
  },
  {
   "cell_type": "code",
   "execution_count": null,
   "id": "402e70f5-426c-4a5b-b02e-b379a8102ea2",
   "metadata": {},
   "outputs": [],
   "source": [
    "# One work around is to write the .lp file \n",
    "# to disk and and read it back in and \n",
    "# print it out ... not recommended for large models\n",
    "m.write('./tmp.lp')\n",
    "with open('./tmp.lp') as f:\n",
    "    print(f.read())"
   ]
  },
  {
   "cell_type": "code",
   "execution_count": null,
   "id": "9cff4f5c-0176-44d2-9dba-6ce9e50b884a",
   "metadata": {},
   "outputs": [],
   "source": [
    "# Let's change objective function back to the original\n",
    "m.setObjective(8 * x_s + 5 * x_p)\n",
    "m.update()\n",
    "m.optimize()\n",
    "\n",
    "# get the results\n",
    "print(f'To generate the optimal profit of ${m.ObjVal:0.2f}, you should produce the following amounts:')\n",
    "for v in m.getVars():\n",
    "    print(f'   {v.VarName} = {v.X}')"
   ]
  },
  {
   "cell_type": "code",
   "execution_count": null,
   "id": "66792abf-5042-40d0-8efd-5f9bf89d0d8c",
   "metadata": {},
   "outputs": [],
   "source": [
    "# We can get all the constraints with m.getConstrs()\n",
    "for constr in m.getConstrs():\n",
    "    # What does it loook like?\n",
    "    print(constr)\n",
    "    # What is its name?\n",
    "    print(constr.ConstrName)\n",
    "    # What about the RHS?\n",
    "    print(constr.rhs)"
   ]
  },
  {
   "cell_type": "code",
   "execution_count": null,
   "id": "17c0cd8c-152e-422a-be02-273758c08e37",
   "metadata": {},
   "outputs": [],
   "source": [
    "# We can pull out a specific constraint by its name\n",
    "# Let's get plastic and store it a Python variable named plastic\n",
    "plastic = m.getConstrByName('plastic')\n",
    "print(plastic.rhs)"
   ]
  },
  {
   "cell_type": "code",
   "execution_count": null,
   "id": "86a9ebf5-494b-4978-8303-7fc7e72eff3b",
   "metadata": {},
   "outputs": [],
   "source": [
    "# Now update the RHS with one additional pound of plastic\n",
    "plastic.rhs = 1201\n",
    "\n",
    "# Update the model and solve it\n",
    "m.update()\n",
    "m.optimize()\n",
    "\n",
    "# get the results\n",
    "print(f'To generate the optimal profit of ${m.ObjVal:0.2f}, you should produce the following amounts:')\n",
    "for v in m.getVars():\n",
    "    print(f'   {v.VarName} = {v.X}')"
   ]
  },
  {
   "cell_type": "markdown",
   "id": "f96e968d-53e7-4171-b599-d9c62f468fff",
   "metadata": {},
   "source": [
    "### Multiple Optimal Solutions\n",
    "\n",
    "Can we find multiple optimal solutions? We saw one case where both the reduced cost and the value of the decision variable was 0 indicating that perhaps multiple optimal solutions existed. The second case was not like that. Let's examine the second case because it seems more interesting. In this instance, space rays bring in \\\\$9 of profit and phasers bring in \\\\$4.50 of profit. We also need to go back to the original 1200 pounds of plastic."
   ]
  },
  {
   "cell_type": "code",
   "execution_count": null,
   "id": "0633ce92-300e-4fb7-9bd6-ad9b60cddddf",
   "metadata": {},
   "outputs": [],
   "source": [
    "# reset the rhs of the plastic constraint to 1200\n",
    "print(f'Current RHS of plastic constraint is {plastic.rhs}')\n",
    "\n",
    "plastic.rhs = 1200\n",
    "\n",
    "# update the model\n",
    "m.update()\n",
    "\n",
    "print(f'After changing RHS of back to original is {plastic.rhs}')"
   ]
  },
  {
   "cell_type": "code",
   "execution_count": null,
   "id": "eaf3555d-03cd-48b8-8bcc-55567b59c38c",
   "metadata": {},
   "outputs": [],
   "source": [
    "# change the objective function\n",
    "m.setObjective(9 * x_s + 4.5 * x_p)\n",
    "m.update()\n",
    "m.optimize()\n",
    "\n",
    "# get the results\n",
    "print(f'To generate the optimal profit of ${m.ObjVal:0.2f}, you should produce the following amounts:')\n",
    "for v in m.getVars():\n",
    "    print(f'   {v.VarName} = {v.X}')"
   ]
  },
  {
   "cell_type": "code",
   "execution_count": null,
   "id": "4c8882ed-5949-475c-856b-402d254d24f0",
   "metadata": {},
   "outputs": [],
   "source": [
    "# Get the reduced cost and range of optimality for each variable\n",
    "for v in m.getVars():\n",
    "    print(f'{v.VarName} has a reduced cost of {v.RC}')\n",
    "    print(f'   and a range of optimality from {v.SAObjLow} to {v.SAObjUp}')"
   ]
  },
  {
   "cell_type": "markdown",
   "id": "fc41bf4e-023d-4435-9a23-afecf1de097f",
   "metadata": {},
   "source": [
    "#### How to Find Other Optimal Solutions\n",
    "\n",
    "That answer only showed a single solution. We can ask Gurobi to find multiple solutions and then look at those."
   ]
  },
  {
   "cell_type": "code",
   "execution_count": null,
   "id": "6eaa262f-817d-4453-8caf-6ff505a7095e",
   "metadata": {},
   "outputs": [],
   "source": [
    "# do a systematic search for the k-best solutions\n",
    "m.setParam(GRB.Param.PoolSearchMode, 2)\n",
    "\n",
    "# Update the model\n",
    "m.update()\n",
    "\n",
    "# Solve\n",
    "m.optimize()\n",
    "\n",
    "# Get the status\n",
    "status = m.Status\n",
    "if status in (GRB.INF_OR_UNBD, GRB.INFEASIBLE, GRB.UNBOUNDED):\n",
    "    print('The model cannot be solved because it is infeasible or unbounded')\n",
    "\n",
    "if status != GRB.OPTIMAL:\n",
    "    print('Optimization was stopped with status ' + str(status))\n",
    "\n",
    "if status == GRB.OPTIMAL:\n",
    "    print(f'Optimization found an OPTIMAL answer with the status of {status}')\n",
    "\n",
    "# Print number of solutions stored\n",
    "nSolutions = m.SolCount\n",
    "print('Number of solutions found: ' + str(nSolutions))"
   ]
  },
  {
   "cell_type": "markdown",
   "id": "24d6fe4e-a6fe-494f-9785-796b1784dc12",
   "metadata": {},
   "source": [
    "#### Why Only 1 Solution?\n",
    "\n",
    "When the variables are continuous and you have multiple optimal solutions, you will in fact have an **infinite** number of optimal solutions. Therefore, the solver will not try to search for more than one. Which one did it find?"
   ]
  },
  {
   "cell_type": "code",
   "execution_count": null,
   "id": "070f0df7-5842-4903-96a6-0475299ebc44",
   "metadata": {},
   "outputs": [],
   "source": [
    "for v in m.getVars():\n",
    "    print(f'   {v.VarName} = {v.X}')"
   ]
  },
  {
   "cell_type": "markdown",
   "id": "25efa305-14e3-4b65-9ea1-3cbb724d7479",
   "metadata": {},
   "source": [
    "#### Another Possible Approach?\n",
    "\n",
    "Becaue the optimal solution found above is integer, you could try converting both variables to integer instead of continuous and re-solving the updated model. When dealing with integer or binary variables, Gurobi will try to find other optimal solutions."
   ]
  },
  {
   "cell_type": "code",
   "execution_count": null,
   "id": "cb9cad64-62e9-4267-bf0c-7f6cfa1fdb3a",
   "metadata": {},
   "outputs": [],
   "source": [
    "# change the variable types to integer\n",
    "for var in m.getVars():\n",
    "    print(f'Variable {var.VarName} is currently of type {var.VTYPE}')\n",
    "    var.setAttr(GRB.Attr.VType, GRB.INTEGER)\n",
    "\n",
    "# update the model for changes to take effect\n",
    "m.update()\n",
    "print('After setting the variables to integer ...')\n",
    "for var in m.getVars():\n",
    "    print(f'Variable {var.VarName} is currently of type {var.VTYPE}')"
   ]
  },
  {
   "cell_type": "code",
   "execution_count": null,
   "id": "57abd842-8cce-4212-bba9-eb07bc7ff7b6",
   "metadata": {},
   "outputs": [],
   "source": [
    "# Solve\n",
    "m.optimize()\n",
    "\n",
    "# Print number of solutions stored\n",
    "nSolutions = m.SolCount\n",
    "print(f'Number of solutions found: {nSolutions}')"
   ]
  },
  {
   "cell_type": "code",
   "execution_count": null,
   "id": "4737ce91-800f-46b7-b7a2-99c1275d9e0d",
   "metadata": {},
   "outputs": [],
   "source": [
    "# Print objective value and values of the decision varaibles of solutions\n",
    "for soln_num in range(m.getAttr(GRB.Attr.SolCount)):\n",
    "    m.Params.SolutionNumber = soln_num\n",
    "    print(f'solution {soln_num} has obj fn value of {m.PoolObjVal}')\n",
    "    for v in m.getVars():\n",
    "        print(f'   {v.VarName} = {v.X}')\n",
    "    "
   ]
  },
  {
   "cell_type": "markdown",
   "id": "276fc67e-9418-4bd2-b926-964e6805f7f7",
   "metadata": {},
   "source": [
    "#### Not Much Better\n",
    "\n",
    "Well, it says it found 10 optimal solutions, all with the objective function value of \\\\$5400. But each solution has the same values for the two decision variables. We do notice that the solution it is telling us now is different from the relaxed LP that we started with. What if it's not giving us the other integer solutions because it is starting from some \"warm state\" from us having modified the original model along the way? We can test this hypothesis by building a new model starting with integer variables. Let's try it."
   ]
  },
  {
   "cell_type": "code",
   "execution_count": null,
   "id": "34d9bc70-5206-493e-b65d-8f1e1204baac",
   "metadata": {},
   "outputs": [],
   "source": [
    "####                    ####\n",
    "#    OPTIMAL SOLUTIONS?    #\n",
    "####                    ####\n",
    "# Create the model object\n",
    "m2 = gp.Model('galaxy_toys2')\n",
    "\n",
    "# Specify how to optimize and time limit (seconds)\n",
    "m2.ModelSense = GRB.MAXIMIZE\n",
    "m2.setParam('TimeLimit', 600)\n",
    "\n",
    "# Tell it search for multiple optimal solutions\n",
    "m2.setParam(GRB.Param.PoolSearchMode, 2)\n",
    "\n",
    "# Create decision variables\n",
    "# We tell the solver that the variables are INTEGER,\n",
    "#   their names, and their lower bounds\n",
    "x_s = m2.addVar(vtype=GRB.INTEGER, name='x_s', lb=0.0)\n",
    "x_p = m2.addVar(vtype=GRB.INTEGER, name='x_p', lb=0.0)\n",
    "\n",
    "# Add the objective function\n",
    "m2.setObjective(9 * x_s + 4.5 * x_p)\n",
    "\n",
    "# Add the constraints\n",
    "# We can simply write out the constraints for the first parameter\n",
    "# The second parameter names the constraint\n",
    "m2.addConstr(2*x_s + x_p <= 1200, name='plastic')\n",
    "m2.addConstr(3*x_s + 4*x_p <= 2400, name='labor')\n",
    "m2.addConstr(x_s + x_p <= 800, name='total_production')\n",
    "m2.addConstr(x_s - x_p <= 450, name='product_mix')\n",
    "\n",
    "# update the model\n",
    "m2.update()\n",
    "\n",
    "# solve\n",
    "m2.optimize()\n",
    "\n",
    "# Print number of solutions stored\n",
    "nSolutions = m2.SolCount\n",
    "print(f'Number of solutions found: {nSolutions}')\n",
    "\n",
    "# Loop through the different optimal solutions\n",
    "for soln_num in range(m2.getAttr(GRB.Attr.SolCount)):\n",
    "    m2.Params.SolutionNumber = soln_num\n",
    "    print(f'solution {soln_num} has obj fn value of {m2.PoolObjVal}')\n",
    "    for v in m2.getVars():\n",
    "        print(f'   {v.VarName} = {v.X}')"
   ]
  },
  {
   "cell_type": "markdown",
   "id": "35ac4f4d-f667-4be2-af79-3e566d5093aa",
   "metadata": {},
   "source": [
    "#### Still No Good!\n",
    "\n",
    "So much for that idea. What if we convert the objective function to a constraint and then say that space rays have to be strictly less than 550? Will that work? Going to start a new model just for fun."
   ]
  },
  {
   "cell_type": "code",
   "execution_count": null,
   "id": "56ec5170-c89a-412c-a3c4-c556b403e95e",
   "metadata": {},
   "outputs": [],
   "source": [
    "####                    ####\n",
    "#    OPTIMAL SOLUTIONS?    #\n",
    "####                    ####\n",
    "# Create the model object\n",
    "m3 = gp.Model('galaxy_toys3')\n",
    "\n",
    "# Specify how to optimize and time limit (seconds)\n",
    "m3.ModelSense = GRB.MAXIMIZE\n",
    "m3.setParam('TimeLimit', 600)\n",
    "\n",
    "# Tell it search for multiple optimal solutions\n",
    "m3.setParam(GRB.Param.PoolSearchMode, 2)\n",
    "\n",
    "# Create decision variables\n",
    "# We tell the solver that the variables are INTEGER,\n",
    "#   their names, and their lower bounds\n",
    "x_s = m3.addVar(vtype=GRB.INTEGER, name='x_s', lb=0.0)\n",
    "x_p = m3.addVar(vtype=GRB.INTEGER, name='x_p', lb=0.0)\n",
    "\n",
    "# Add the objective function\n",
    "m3.setObjective(9 * x_s + 4.5 * x_p)\n",
    "\n",
    "# Add the constraints\n",
    "# We can simply write out the constraints for the first parameter\n",
    "# The second parameter names the constraint\n",
    "m3.addConstr(2*x_s + x_p <= 1200, name='plastic')\n",
    "m3.addConstr(3*x_s + 4*x_p <= 2400, name='labor')\n",
    "m3.addConstr(x_s + x_p <= 800, name='total_production')\n",
    "m3.addConstr(x_s - x_p <= 450, name='product_mix')\n",
    "\n",
    "# Add the constraint that the obj fn value should be 5400\n",
    "m3.addConstr(9*x_s + 4.5*x_p == 5400, name='obj_fn')\n",
    "\n",
    "# Add constraint that space rays <= 549\n",
    "m3.addConstr(x_s <= 549, name='limit_space_rays')\n",
    "\n",
    "# update the model\n",
    "m3.update()\n",
    "\n",
    "# solve\n",
    "m3.optimize()\n",
    "\n",
    "# Print number of solutions stored\n",
    "nSolutions = m3.SolCount\n",
    "print(f'Number of solutions found: {nSolutions}')\n",
    "\n",
    "# Loop through the different optimal solutions\n",
    "for soln_num in range(m3.getAttr(GRB.Attr.SolCount)):\n",
    "    m3.Params.SolutionNumber = soln_num\n",
    "    print(f'solution {soln_num} has obj fn value of {m3.PoolObjVal}')\n",
    "    for v in m3.getVars():\n",
    "        print(f'   {v.VarName} = {v.X}')"
   ]
  },
  {
   "cell_type": "markdown",
   "id": "33f135ff-b99f-4769-9c12-69c92320ac49",
   "metadata": {},
   "source": [
    "#### A Little Better\n",
    "\n",
    "Well, it found the other corner point as the solution. Any other ideas?"
   ]
  },
  {
   "cell_type": "code",
   "execution_count": null,
   "id": "a8ea56b5-9b6d-4959-8b64-e3a3d637ebb9",
   "metadata": {},
   "outputs": [],
   "source": [
    "####                    ####\n",
    "#    OPTIMAL SOLUTIONS?    #\n",
    "####                    ####\n",
    "# Create the model object\n",
    "m4 = gp.Model('galaxy_toys4')\n",
    "\n",
    "# Specify how to optimize and time limit (seconds)\n",
    "m4.ModelSense = GRB.MAXIMIZE\n",
    "m4.setParam('TimeLimit', 600)\n",
    "\n",
    "# Tell it search for multiple optimal solutions\n",
    "m4.setParam(GRB.Param.PoolSearchMode, 2)\n",
    "\n",
    "# Create decision variables\n",
    "# We tell the solver that the variables are INTEGER,\n",
    "#   their names, and their lower bounds\n",
    "# Putting bounds on space rays in attempt to force \n",
    "#   it off the two corner points\n",
    "x_s = m4.addVar(vtype=GRB.INTEGER, name='x_s', lb=481.0, ub=549)\n",
    "x_p = m4.addVar(vtype=GRB.INTEGER, name='x_p', lb=0.0)\n",
    "\n",
    "# Add the objective function\n",
    "m4.setObjective(9 * x_s + 4.5 * x_p)\n",
    "\n",
    "# Add the constraints\n",
    "# We can simply write out the constraints for the first parameter\n",
    "# The second parameter names the constraint\n",
    "m4.addConstr(2*x_s + x_p <= 1200, name='plastic')\n",
    "m4.addConstr(3*x_s + 4*x_p <= 2400, name='labor')\n",
    "m4.addConstr(x_s + x_p <= 800, name='total_production')\n",
    "m4.addConstr(x_s - x_p <= 450, name='product_mix')\n",
    "\n",
    "# Add the constraint that the obj fn value should be 5400\n",
    "m4.addConstr(9*x_s + 4.5*x_p == 5400, name='obj_fn')\n",
    "\n",
    "# update the model\n",
    "m4.update()\n",
    "\n",
    "# solve\n",
    "m4.optimize()\n",
    "\n",
    "# Print number of solutions stored\n",
    "nSolutions = m4.SolCount\n",
    "print(f'Number of solutions found: {nSolutions}')\n",
    "\n",
    "# Loop through the different optimal solutions\n",
    "for soln_num in range(m4.getAttr(GRB.Attr.SolCount)):\n",
    "    m4.Params.SolutionNumber = soln_num\n",
    "    print(f'solution {soln_num} has obj fn value of {m4.PoolObjVal}')\n",
    "    for v in m4.getVars():\n",
    "        print(f'   {v.VarName} = {v.X}')"
   ]
  },
  {
   "cell_type": "markdown",
   "id": "74709e3a-0e8b-4a5b-a7c1-031268f95d16",
   "metadata": {
    "deletable": false,
    "editable": false,
    "slideshow": {
     "slide_type": ""
    },
    "tags": []
   },
   "source": [
    "**&copy; 2024 - Present: Matthew D. Dean, Ph.D.   \n",
    "Clinical Full Professor of Business Analytics at William \\& Mary.**"
   ]
  }
 ],
 "metadata": {
  "kernelspec": {
   "display_name": "Python 3 (ipykernel)",
   "language": "python",
   "name": "python3"
  },
  "language_info": {
   "codemirror_mode": {
    "name": "ipython",
    "version": 3
   },
   "file_extension": ".py",
   "mimetype": "text/x-python",
   "name": "python",
   "nbconvert_exporter": "python",
   "pygments_lexer": "ipython3",
   "version": "3.12.4"
  }
 },
 "nbformat": 4,
 "nbformat_minor": 5
}
