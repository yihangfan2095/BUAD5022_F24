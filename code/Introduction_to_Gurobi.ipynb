{
 "cells": [
  {
   "cell_type": "markdown",
   "id": "e70937be-9253-4ff7-9e6c-e965feabfe86",
   "metadata": {},
   "source": [
    "# Introduction\n",
    "\n",
    "This notebook introduces the syntax of formulating a model in Gurobi, specifically showing  a variety of different ways to formulate a Gurobi optimization model.  The initial examples are shown for clarity and for the purposes of showing concrete examples of what the Gurobi statements accomplish.  Later examples are more robust for the purposes of constructing large models and also faster than earlier formulations.  Most of the latter formulations will be sufficiently fast for problems of the scale often encountered in real applications."
   ]
  },
  {
   "cell_type": "markdown",
   "id": "df4c4ecc-c9af-48ab-af1d-b10acdf148e3",
   "metadata": {},
   "source": [
    "# A Brief Tour of the <code>gurobipy</code> Package"
   ]
  },
  {
   "cell_type": "markdown",
   "id": "a45df340-d712-410d-b439-9d7cd26e489c",
   "metadata": {},
   "source": [
    "The first thing we need to do is to import the <code>gurobipy</code> package, which we do using an alias <code>gp</code>, along with importing the `GRB` namespace from that package:\n",
    "\n",
    "``` python\n",
    "import gurobipy as gp\n",
    "from gurobipy import GRB\n",
    "```\n",
    "All optimization model components are contained within the <code>gurobipy Model</code> object.  So the first thing we do in a Gurobi optimization model after inputting the data is to establish a variable to represent the model we are building.\n",
    "\n",
    "``` python\n",
    "m = gp.Model('name_of_model')\n",
    "```\n",
    "\n",
    "The syntax for subsequently adding decision variables, an objective function, and constraints are shown and illustrated below.\n",
    "\n",
    "The statements used to construct a Gurobi optimization model often use functionality from the <code>gurobipy</code> package, such as a function for faster summing of terms, specifying decision variable types, specifying whether models are to be maximized or minimized, and specifying whether constraints are equality or inequality relationships.\n",
    "\n",
    "The function for faster summing is, in general,\n",
    "\n",
    "``` python\n",
    "gp.quicksum()\n",
    "```\n",
    "\n",
    "This function sums the terms within the parentheses, which are often stated using a <code>for</code> statement as we would use in a list comprehension.  If, for example, the variable <code>c</code> was an array of coefficients and <code>x</code> were decision variables constructed in a fashion so that we can iterate through them (in a list perhaps) then we might write something like:\n",
    "\n",
    "``` python\n",
    "gp.quicksum(c[i] * x[i] for i in range(len(c)))\n",
    "```\n",
    "\n",
    "This example above would be a way to specify an objective function, but <code>gp.quicksum()</code> can be used in a similar way within constraints as well, as we will see in the examples below.\n",
    "\n",
    "The <code>gurobipy.GRB</code> \"namespace\" provides a lot of the other functionality, for example,\n",
    "\n",
    "- Specifying constraint relationships (these can sometimes be specified with ==, <=, and >=)\n",
    "  - <code>GRB.EQUAL</code>\n",
    "  - <code>GRB.GREATER_EQUAL</code>\n",
    "  - <code>GRB.LESS_EQUAL</code>\n",
    "- Specifying maximization or minimization\n",
    "  - <code>GRB.MAXIMIZE</code>\n",
    "  - <code>GRB.MINIMIZE</code>\n",
    "- Specifying decision variable types\n",
    "  - <code>GRB.CONTINUOUS</code>\n",
    "  - <code>GRB.INTEGER</code>\n",
    "  - <code>GRB.BINARY</code>"
   ]
  },
  {
   "cell_type": "markdown",
   "id": "edd92604-01ae-4842-9171-cf499adcd219",
   "metadata": {},
   "source": [
    "# Gurobi Statements to Add Decision Variables\n",
    "\n",
    "Decision variables can be added to Gurobi models using several statements.  Those statements used in this notebook are listed below and clicking on each bullet will direct you to Gurobi's documentation page for that statement.\n",
    "\n",
    "- [<code>m.addVar()</code>](https://www.gurobi.com/documentation/current/refman/py_model_addvar.html)\n",
    "  - Adds a single decision variable\n",
    "- [<code>m.addVars()</code>](https://www.gurobi.com/documentation/current/refman/py_model_addvars.html)\n",
    "  - Adds multiple decision variables\n",
    "- [<code>m.addMVar()</code>](https://www.gurobi.com/documentation/current/refman/py_model_addmvar.html)\n",
    "  - Add multiple decision variable in a vector/matrix format that behaves like a <code>numpy</code> array in computations\n",
    "\n",
    "Note also that decision variables can be added directly to the Gurobi model without any intervening Python structure.  Alternately, decision variables can be contained within Python structures such as lists, which might present a convenient way to access the variables to check their value in the final solution.  That said, variables are accessible even if they are not packaged within a Python list."
   ]
  },
  {
   "cell_type": "markdown",
   "id": "dc6a60f9-1346-46ff-8e0a-ba5f4b9adfca",
   "metadata": {},
   "source": [
    "# Gurobi Statements to Add Constraints\n",
    "\n",
    "Constraints can be constructed with several Gurobi statements, many of which will be demonstrated in this notebook.  Checking the documentation for a constraint statement can be informative because some permit flexibility in how the constraint data are specified.  For convenience, links to Gurobi documentation for each of these are listed below:\n",
    "\n",
    "- [<code>m.addLConstr()</code>](https://www.gurobi.com/documentation/current/refman/py_model_addlconstr.html)\n",
    "  - Adds a single linear constraint\n",
    "- [<code>m.addConstr()</code>](https://www.gurobi.com/documentation/current/refman/py_model_addconstr.html)\n",
    "  - Adds a single constraint.  Will sense if the constraint is linear or not.\n",
    "- [<code>m.addConstrs()</code>](https://www.gurobi.com/documentation/current/refman/py_model_addconstrs.html)\n",
    "  - Adds multiple constraints and requires a <code>for</code> statement\n",
    "- [<code>m.addMConstr()</code>](https://www.gurobi.com/documentation/current/refman/py_model_addmconstr.html)\n",
    "  - Adds a matrix/vector of constraints"
   ]
  },
  {
   "cell_type": "markdown",
   "id": "d8cf02da-b805-4532-b4a5-a3111b04c738",
   "metadata": {},
   "source": [
    "# Most Basic Gurobi Model: Hard-Coded Coefficients\n",
    "\n",
    "This is the simplest and most understandable approach as a first example, although it is infeasible for larger data sets/models.  We nonetheless use this as a starting point for understanding what the more complex approaches do in principal.\n",
    "\n",
    "Let's revisit our clothing example which had the formulation:\n",
    "\n",
    "| | | |\n",
    "| --- | --- | --- |\n",
    "| Let | | |\n",
    "| $$s$$ | = | number of shirts to produce next week |\n",
    "| $$p$$ | = | number of PJs to produce next week |\n",
    "\n",
    "| | | | | | | |\n",
    "| --- | --- | --- | --- | --- | --- | --- |\n",
    "| $\\max$ | $4s$ | $+$ | $3p$ | | | |\n",
    "| s.t. | $1.5s$ | $+$ | $2p$ | $\\le$ | $450$ | {cutting hours} |\n",
    "| | $1s$ | $+$ | $0.75p$ | $\\le$ | $280$ | {sewing hours} |\n",
    "| | $s$ | | | $\\ge$ | $0$ | {non-negativity} |\n",
    "| | | | $p$ | $\\ge$ | $0$ | {non-negativity} |"
   ]
  },
  {
   "cell_type": "code",
   "execution_count": null,
   "id": "af220ec0-b37d-4356-a6d6-a257cca49c72",
   "metadata": {},
   "outputs": [],
   "source": [
    "import gurobipy as gp\n",
    "from gurobipy import GRB\n",
    "\n",
    "# create Gurobi model\n",
    "m = gp.Model('clothing')\n",
    "\n",
    "# Specify how to optimize and time limit (seconds)\n",
    "m.ModelSense = GRB.MAXIMIZE  # can be specified when the objective function is defined\n",
    "m.setParam('TimeLimit', 7200)\n",
    "\n",
    "# Create decision variables\n",
    "s = m.addVar(vtype=GRB.CONTINUOUS,name='shirts', lb=0.0)\n",
    "p = m.addVar(vtype=GRB.CONTINUOUS,name='pajamas', lb=0.0)\n",
    "\n",
    "# Update model to include variables and parameters\n",
    "m.update()\n",
    "\n",
    "# Create constraints\n",
    "m.addConstr(1.5 * s + 2.0 * p <= 450.0, \"CuttingHours\")\n",
    "m.addConstr(1.0 * s + 0.75 * p <= 280.0, \"SewingHours\")\n",
    "\n",
    "# Set objective function\n",
    "m.setObjective(4.0 * s + 3.0 * p, GRB.MAXIMIZE) # redundant model sense specification\n",
    "\n",
    "# Update the model to incorporate objective and constraints\n",
    "m.update()\n",
    "\n",
    "# Optimize the model\n",
    "m.optimize()"
   ]
  },
  {
   "cell_type": "markdown",
   "id": "ea568c42-9514-4659-8408-e94040d39b68",
   "metadata": {},
   "source": [
    "# Most Basic Model with Some Twists\n",
    "\n",
    "Objective function coeficients can be specified in the decision variable statement.  This is convenient in this case, but might not be convenient with larger models.  Still it is mentioned here to show the latitude that exists in specifying a model.\n",
    "\n",
    "Also illustrated in the code cell below is an alternate way to specify constraints using < <=, >, >=, and == to indicate the constraint sense as opposed to the <code>GRB</code> namespace sense operators."
   ]
  },
  {
   "cell_type": "code",
   "execution_count": null,
   "id": "e2f8e2d3-3ebd-4bcc-ace7-0621b4f42c6a",
   "metadata": {},
   "outputs": [],
   "source": [
    "import gurobipy as gp\n",
    "from gurobipy import GRB\n",
    "\n",
    "# create Gurobi model\n",
    "m = gp.Model('clothing')\n",
    "\n",
    "# Specify how to optimize and time limit (seconds)\n",
    "m.ModelSense = GRB.MAXIMIZE  # can be specified when the objective function is defined\n",
    "m.setParam('TimeLimit', 7200)\n",
    "\n",
    "# Create decision variables\n",
    "''' Note that the objective function coefficients are specified here with the \"obj\" parameter '''\n",
    "s = m.addVar(vtype=GRB.CONTINUOUS, name='shirts', lb=0.0, obj=4)\n",
    "p = m.addVar(vtype=GRB.CONTINUOUS, name='pajamas', lb=0.0, obj=3)\n",
    "\n",
    "# Update model to include variables and parameters\n",
    "m.update()\n",
    "\n",
    "# Create constraints\n",
    "m.addConstr(1.5 * s + 2.0 * p <= 450.0, \"CuttingHours\")\n",
    "m.addConstr(1.0 * s + 0.75 * p <= 280.0, \"SewingHours\")\n",
    "\n",
    "# Set objective function\n",
    "''' This statement is now not needed '''\n",
    "#m.setObjective(20.0 * xs + 10.0 * xc, gpy.GRB.MAXIMIZE) # redundant model sense specification\n",
    "\n",
    "# Update the model to incorporate objective and constraints\n",
    "m.update()\n",
    "\n",
    "# Optimize the model\n",
    "m.optimize()"
   ]
  },
  {
   "cell_type": "markdown",
   "id": "0b1599ff-274a-43e9-ac6b-10b8a422a57e",
   "metadata": {},
   "source": [
    "# A More Concise & Flexible Formulation for Larger Models\n",
    "\n",
    "This formulation uses data in Python variables, although they could as easily be in external data files or in a MySQL database.  Its features include:\n",
    "\n",
    "- Constraints and the objective function are specified with generators (similar to list comprehension) such that the coefficients need not be hard-coded and the formulation syntax will work for a model of any size.\n",
    "- An alternative for creating a Python list of decision variables using list comprehension is included.\n",
    "- Decision varables within Python lists provide a convenient way to iterate through the decisions variables as, for example, the objective function is expressed.\n",
    "- The <code>gp.quicksum()</code>  is a relatively fast way to sum the products of coefficients and decision variables for variables defined in this manner and iterated thorugh using <code>for</code> statements.\n",
    "- Printouts of sensitivity analysis.  For more information relating to the variable and constraint attributes in regard to sensitivity analysis, please see this URL [Gurobi attributes](https://www.gurobi.com/documentation/11.0/refman/attributes.html)."
   ]
  },
  {
   "cell_type": "code",
   "execution_count": null,
   "id": "2095ffa7-5981-4826-97c2-171df06ca337",
   "metadata": {},
   "outputs": [],
   "source": [
    "import gurobipy as gp\n",
    "from gurobipy import GRB\n",
    "\n",
    "''' Data in Python Lists '''\n",
    "cnstr_coeff = [[1.5, 2.0],[1.0, 0.75]]\n",
    "cnstr_names = ['CuttingHours', 'SewingHours']\n",
    "cnstr_rhs = [450.0, 280.0]\n",
    "obj_coeff = [4.0, 3.0]\n",
    "var_name = ['shirts', 'pajamas']\n",
    "\n",
    "# Create Gurobi model\n",
    "m = gp.Model('clothing')\n",
    "\n",
    "# Specify how to optimize and time limit (seconds)\n",
    "m.ModelSense = GRB.MAXIMIZE\n",
    "m.setParam('TimeLimit', 7200)     \n",
    "\n",
    "# Create decision variables in a Python list\n",
    "dvars = []\n",
    "for i in range(len(obj_coeff)):\n",
    "    dvars.append(m.addVar(vtype=GRB.CONTINUOUS, name=var_name[i], lb=0.0))\n",
    "''' Alternate list comprehension method for defining variables '''\n",
    "#dvars = [m.addVar(vtype=GRB.CONTINUOUS, name=var_name[i], lb=0.0) for i in range(len(obj_coeff))]\n",
    "\n",
    "# Update model to include variables and parameters\n",
    "m.update()\n",
    "\n",
    "# Create constraints in a loop\n",
    "for i in range(len(cnstr_coeff)):\n",
    "    m.addLConstr(gp.quicksum((cnstr_coeff[i][j] * dvars[j] for j in range(len(dvars)))), GRB.LESS_EQUAL, cnstr_rhs[i], cnstr_names[i])\n",
    "\n",
    "# Create objective function\n",
    "m.setObjective(gp.quicksum(obj_coeff[i] * dvars[i] for i in range(len(dvars))), GRB.MAXIMIZE)\n",
    "\n",
    "# Update model to include constraints and objective function\n",
    "m.update()\n",
    "\n",
    "# Optimize the model\n",
    "m.optimize()\n",
    "\n",
    "''' Print decision variable values and other information '''\n",
    "for var in m.getVars():\n",
    "    print(f'Variable: {var.varName}, Optimal Value = {var.x}, (LB,UB) = ({var.lb}, {var.ub}), Reduced cost = {var.RC}, Coeff = {var.obj}, Obj coeff range = ({var.SAObjLow: .3f}, {var.SAObjUp: .3f})')\n",
    "\n",
    "''' Print sensitivity analysis information on constraints '''\n",
    "for c in m.getConstrs():\n",
    "    print(f'Constraint: {c.ConstrName}, RHS = {c.RHS}, slack = {c.slack}, Limits = ({c.SARHSLow}, {c.SARHSUp})')"
   ]
  },
  {
   "cell_type": "markdown",
   "id": "0edd17dd-168c-460d-9a87-c642172c26a0",
   "metadata": {},
   "source": [
    "# A Formulation Using Gurobi <code>LinExpr</code>\n",
    "\n",
    "Formulating objective functions and constraints using <code>LinExpr()</code> is proportedly faster than using <code>quicksum()</code>.  It is also, perhaps, more succinct because the generators or list comprehension because one level of <code>for</code> loop or list comprehension are no longer needed.\n",
    "\n",
    "This formation also uses list comprehension.\n",
    "\n",
    "[Link to Gurobi Model.LinExpr](https://www.gurobi.com/documentation/current/refman/py_lex.html)"
   ]
  },
  {
   "cell_type": "code",
   "execution_count": null,
   "id": "8130f7aa-b240-47f3-a5c7-7f272cfd4dbe",
   "metadata": {},
   "outputs": [],
   "source": [
    "import gurobipy as gp\n",
    "\n",
    "A = [[1.5, 2.0],[1.0, 0.75]]\n",
    "cnstr_names = ['CuttingHours', 'SewingHours']\n",
    "b = [450.0, 280.0]\n",
    "c = [4.0, 3.0]\n",
    "var_name = ['q_shirts', 'q_pajamas']\n",
    "\n",
    "# Create Gurobi model\n",
    "m = gp.Model('clothing')\n",
    "\n",
    "# Specify how to optimize and time limit (seconds)\n",
    "m.ModelSense = GRB.MAXIMIZE\n",
    "m.setParam('TimeLimit', 7200)\n",
    "\n",
    "# Create decision variables using list comprehension\n",
    "x = [m.addVar(vtype=GRB.CONTINUOUS, name=var_name[i], lb=0.0) for i in range(len(var_name))]\n",
    "\n",
    "# Update model to include variables\n",
    "m.update()\n",
    "\n",
    "# Create constraints\n",
    "#for i in range(len(cnstr_rhs)):\n",
    "#    m.addLConstr(gpy.LinExpr(cnstr_coeff[i], x), gpy.GRB.LESS_EQUAL, cnstr_rhs[i],cnstr_names[i])\n",
    "cnstr = [m.addLConstr(gp.LinExpr(A[i], x), GRB.LESS_EQUAL, b[i], cnstr_names[i]) for i in range(len(b))]\n",
    "\n",
    "# Create objective function\n",
    "m.setObjective(gp.LinExpr(c, x), GRB.MAXIMIZE)\n",
    "\n",
    "# Update model to include constraints and objective function\n",
    "m.update()\n",
    "\n",
    "# Optimize the model\n",
    "m.optimize()\n",
    "\n",
    "''' Print decision variable values and other information '''\n",
    "for var in m.getVars():\n",
    "    print(f'Variable: {var.varName}, Optimal Value = {var.x}, (LB,UB) = ({var.lb}, {var.ub}), Reduced cost = {var.RC}, Coeff = {var.obj}, Obj coeff range = ({var.SAObjLow: .3f}, {var.SAObjUp: .3f})')\n",
    "\n",
    "''' Print sensitivity analysis information on constraints '''\n",
    "for c in m.getConstrs():\n",
    "    print(f'Constraint: {c.ConstrName}, RHS = {c.RHS}, slack = {c.slack}, Limits = ({c.SARHSLow}, {c.SARHSUp})')"
   ]
  },
  {
   "cell_type": "markdown",
   "id": "21c00116-d2fc-4b68-8bc7-0721b006ce08",
   "metadata": {},
   "source": [
    "# Python Matrix Mulitplication and <code>numpy</code>\n",
    "\n",
    "We introduce the Python matrix multiplication operator here, <code>@</code>.  Whereas the <code>*</code> operator multiplies <code>numpy</code> arrays elementwise, the <code>@</code> operator multiple <code>numpy</code> arrays and matrices in the sense we would think of in linear algebra.\n",
    "\n",
    "<code>numpy</code> can be used to make Gurobi models more concise.  The models are also, in a sense, simpler, as long as we understand linear algebra and how vector-matrix multiplication is done."
   ]
  },
  {
   "cell_type": "code",
   "execution_count": null,
   "id": "e09e77eb-9dfa-46e1-9354-6c37b01ec58a",
   "metadata": {},
   "outputs": [],
   "source": [
    "import numpy as np\n",
    "\n",
    "A = np.arange(9).reshape(3,3)\n",
    "B = np.empty((3,3))\n",
    "B.fill(2)\n",
    "A,B"
   ]
  },
  {
   "cell_type": "code",
   "execution_count": null,
   "id": "1ff098af-8f09-42af-8093-48f78e2bf6cf",
   "metadata": {},
   "outputs": [],
   "source": [
    "A * B"
   ]
  },
  {
   "cell_type": "code",
   "execution_count": null,
   "id": "f2cf39ba-7193-46fc-9db5-865eb727f328",
   "metadata": {},
   "outputs": [],
   "source": [
    "A@B"
   ]
  },
  {
   "cell_type": "code",
   "execution_count": null,
   "id": "cf8667c5-9127-4494-8887-b35c19fc6dfb",
   "metadata": {},
   "outputs": [],
   "source": [
    "x = np.array([1,2,3])"
   ]
  },
  {
   "cell_type": "code",
   "execution_count": null,
   "id": "05ec1ff4-64cb-48a5-92d4-9c5e1825865b",
   "metadata": {},
   "outputs": [],
   "source": [
    "A@x"
   ]
  },
  {
   "cell_type": "code",
   "execution_count": null,
   "id": "8f2d60be-3b34-4001-bb2b-8f6f55cbe598",
   "metadata": {},
   "outputs": [],
   "source": [
    "x@A"
   ]
  },
  {
   "cell_type": "markdown",
   "id": "3a2662ce-3542-40c6-8950-f96acd5a8512",
   "metadata": {},
   "source": [
    "Note that a 1D numpy array is interpreted either as a valid row vector or column vector depending on which side of A it appears in the matrix multiplcation.\n",
    "\n",
    "When data are of the the <code>numpy matrix</code> data type, then the matrix dimensions must adhere to linear algebra conventions.  The matrix-vector multiplication below will not work because the vector <code>x1</code> does not have three rows to match the number of columns in <code>A1</code>.  Also, as a warning, the <code>matrix</code> data type might be removed from <code>numpy</code> in the future.  So, perhaps best to use <code>numpy</code> arrays.  "
   ]
  },
  {
   "cell_type": "code",
   "execution_count": null,
   "id": "ee8dfa13-7bc1-48e7-8eca-70911fd2029b",
   "metadata": {},
   "outputs": [],
   "source": [
    "A1 = np.matrix(A)\n",
    "x1 = np.matrix(x)\n",
    "A1,x1"
   ]
  },
  {
   "cell_type": "code",
   "execution_count": null,
   "id": "82d403fb-7509-4dab-b7fe-338fde778f7e",
   "metadata": {},
   "outputs": [],
   "source": [
    "A1@x1"
   ]
  },
  {
   "cell_type": "code",
   "execution_count": null,
   "id": "aa36aaa9-14ee-4fcd-8135-03ac3ac5fa51",
   "metadata": {},
   "outputs": [],
   "source": [
    "x1 = x1.reshape(3,1)\n",
    "x1"
   ]
  },
  {
   "cell_type": "code",
   "execution_count": null,
   "id": "bbae7c55-de6d-4897-b7e8-28c41e29c6d5",
   "metadata": {},
   "outputs": [],
   "source": [
    "A1@x1"
   ]
  },
  {
   "cell_type": "markdown",
   "id": "ceb0c560-a62e-41e7-8055-6eb2c2b213dd",
   "metadata": {},
   "source": [
    "# Formulations Using numpy Arrays\n",
    "\n",
    "Using <code>numpy</code> arrays for coefficients might be a bit faster and permit objective functions and constraints to be specified using matrix-vector math.  Thus, multiple constraints can be specified in a single statement.\n",
    "\n",
    "New statements:\n",
    "- <code>Model.addMVar()</code>\n",
    "- <code>Model.addMConstr()</code>\n",
    "- <code>Model.addConstrs()</code>"
   ]
  },
  {
   "cell_type": "markdown",
   "id": "f130a56c-7d81-4d43-9f3d-40f529960903",
   "metadata": {},
   "source": [
    "First, a more concise restatement of the previous formulation using the multiplication of  <code>numpy</code> arrays.  Notice that Gurobi decision variables declared with <code>Model.addMVar()</code> behave like <code>numpy</code> arrays.\n",
    "\n",
    "The formulation below uses the <code>m.addMVar()</code> method of constructing multiple constraints, which works when the constraint has a particular structure.  Otherwise, you can revert to the <code>m.addConstrs()</code> approach above."
   ]
  },
  {
   "cell_type": "code",
   "execution_count": null,
   "id": "d4127d77-f760-4811-b6b4-5e9fd2010732",
   "metadata": {},
   "outputs": [],
   "source": [
    "import gurobipy as gp\n",
    "from gurobipy import  GRB\n",
    "import numpy as np\n",
    "\n",
    "A = np.array([[1.5,2.0],[1.0,0.75]])\n",
    "cnstr_names = ['CuttingHours', 'SewingHours']\n",
    "b = np.array([450.0,280.0])\n",
    "c = np.array([4.0,3.0])\n",
    "var_name = ['shirts', 'pajamas']\n",
    "\n",
    "# Create Gurobi model\n",
    "m = gp.Model('clothing')\n",
    "\n",
    "# Specify how to optimize and time limit (seconds)\n",
    "m.ModelSense = GRB.MAXIMIZE\n",
    "m.setParam('TimeLimit',7200)\n",
    "\n",
    "# Create decision variables using addMVar function\n",
    "x = m.addMVar(shape=(2), vtype=GRB.CONTINUOUS, name='x') \n",
    "\n",
    "# Update model to include variables\n",
    "m.update()\n",
    "\n",
    "# Create constraints\n",
    "#cnstr = [m.addLConstr(gpy.LinExpr(A[i], x), gpy.GRB.LESS_EQUAL, b[i], cnstr_names[i]) for i in range(len(b))]\n",
    "cnstr = [m.addConstr(A[i] @ x <= b[i], cnstr_names[i]) for i in range(len(b))]\n",
    "''' But, this is more succinct '''\n",
    "#m.addConstrs((A[i] @ x <= b[i] for i in range(len(b))), name=cnstr_names)\n",
    "''' And, this is even more succinct '''\n",
    "#m.addConstrs(A @ x <= b for i in range(1))\n",
    "''' And, maybe even better '''\n",
    "#m.addMConstr(A, x, GRB.LESS_EQUAL, b, name='cnstr')\n",
    "\n",
    "# Create objective function\n",
    "m.setObjective(c @ x, GRB.MAXIMIZE)\n",
    "\n",
    "# Update model to include constraints and objective function\n",
    "m.update()\n",
    "\n",
    "# Optimize the model\n",
    "m.optimize()\n",
    "\n",
    "''' Print decision variable values and other information '''\n",
    "for var in m.getVars():\n",
    "    print(f'Variable: {var.varName}, Optimal Value = {var.x}, (LB,UB) = ({var.lb}, {var.ub}), Reduced cost = {var.RC}, Coeff = {var.obj}, Obj coeff range = ({var.SAObjLow: .3f}, {var.SAObjUp: .3f})')\n",
    "\n",
    "''' Print sensitivity analysis information on constraints '''\n",
    "for c in m.getConstrs():\n",
    "    print(f'Constraint: {c.ConstrName}, RHS = {c.RHS}, slack = {c.slack}, Limits = ({c.SARHSLow}, {c.SARHSUp})')"
   ]
  },
  {
   "cell_type": "markdown",
   "id": "efa09fd0-63f2-42d6-93da-e9b516fdfd4e",
   "metadata": {},
   "source": [
    "# Reading <code>numpy</code> Model Data from Files\n",
    "\n",
    "This formulation generates <code>numpy</code> arrays from text files."
   ]
  },
  {
   "cell_type": "code",
   "execution_count": null,
   "id": "481b97c0-435f-47a2-861c-c59ec6829143",
   "metadata": {},
   "outputs": [],
   "source": [
    "import gurobipy as gp\n",
    "from gurobipy import GRB\n",
    "import numpy as np\n",
    "\n",
    "A = np.genfromtxt('A.txt')\n",
    "b = np.genfromtxt('b.txt').reshape(2,1)\n",
    "c = np.genfromtxt('c.txt')\n",
    "\n",
    "# Create Gurobi model\n",
    "m = gp.Model('clothing')\n",
    "\n",
    "# Specify how to optimize and time limit (seconds)\n",
    "m.setParam('TimeLimit', 7200)\n",
    "\n",
    "\n",
    "# Create matrix of decision variables\n",
    "x = m.addMVar(shape=(2,1), vtype=GRB.CONTINUOUS, name='x') \n",
    "\n",
    "# Update model to include variables\n",
    "m.update()\n",
    "\n",
    "# Create constraints\n",
    "m.addConstrs((A @ x <= b for i in range(1)), name='cnstr') # generator iterator required despite not needing it\n",
    "''' Alternative statement with m.addMConstr() \n",
    "      - Requires a 1D numpy array '''\n",
    "#m.addMConstr(A, x.reshape((2,)), gp.GRB.LESS_EQUAL, b, name='cnstr')\n",
    "\n",
    "m.update()\n",
    "for cn in m.getConstrs():\n",
    "    print(m.getRow(cn), cn.RHS)\n",
    "\n",
    "\n",
    "# Create objective function\n",
    "m.setObjective(c @ x, GRB.MAXIMIZE)\n",
    "\n",
    "# Update model to include constraints and objective function\n",
    "m.update()\n",
    "\n",
    "# Optimize the model\n",
    "m.optimize()\n",
    "\n",
    "''' Print decision variable values and other information '''\n",
    "for var in m.getVars():\n",
    "    print(f'Variable: {var.varName}, Optimal Value = {var.x}, (LB,UB) = ({var.lb}, {var.ub}), Reduced cost = {var.RC}, Coeff = {var.obj}, Obj coeff range = ({var.SAObjLow: .3f}, {var.SAObjUp: .3f})')\n",
    "\n",
    "''' Print sensitivity analysis information on constraints '''\n",
    "for c in m.getConstrs():\n",
    "    print(f'Constraint: {c.ConstrName}, RHS = {c.RHS}, slack = {c.slack}, Limits = ({c.SARHSLow}, {c.SARHSUp})')"
   ]
  },
  {
   "cell_type": "code",
   "execution_count": null,
   "id": "8b891e11-6e1c-446e-b2b3-a2a517589e3f",
   "metadata": {},
   "outputs": [],
   "source": [
    "A@x"
   ]
  },
  {
   "cell_type": "markdown",
   "id": "d7004d71-512a-4506-9649-5e02932704ea",
   "metadata": {
    "deletable": false,
    "editable": false,
    "slideshow": {
     "slide_type": ""
    },
    "tags": []
   },
   "source": [
    "**&copy; 2024 - Present: Matthew D. Dean, Ph.D.   \n",
    "Clinical Full Professor of Business Analytics at William \\& Mary.**"
   ]
  }
 ],
 "metadata": {
  "kernelspec": {
   "display_name": "Python 3 (ipykernel)",
   "language": "python",
   "name": "python3"
  },
  "language_info": {
   "codemirror_mode": {
    "name": "ipython",
    "version": 3
   },
   "file_extension": ".py",
   "mimetype": "text/x-python",
   "name": "python",
   "nbconvert_exporter": "python",
   "pygments_lexer": "ipython3",
   "version": "3.12.4"
  }
 },
 "nbformat": 4,
 "nbformat_minor": 5
}
